{
 "cells": [
  {
   "cell_type": "markdown",
   "id": "f391c13f-35c4-491f-b61a-cdb46bca75ef",
   "metadata": {},
   "source": [
    "## Imports"
   ]
  },
  {
   "cell_type": "code",
   "execution_count": 58,
   "id": "55de786b-2ac6-4b24-8f18-0b2c54d02c06",
   "metadata": {},
   "outputs": [],
   "source": [
    "import tensorflow as tf\n",
    "import tensorflow_datasets as tfds\n",
    "import numpy as np\n",
    "import matplotlib.pyplot as plt\n",
    "from sklearn.model_selection import train_test_split"
   ]
  },
  {
   "cell_type": "markdown",
   "id": "3e41051b-fcbc-4caf-8030-13df4c17e3b0",
   "metadata": {},
   "source": [
    "## Dataset"
   ]
  },
  {
   "cell_type": "code",
   "execution_count": 97,
   "id": "ee0243fa-e61e-4e64-9029-b5c9c6aab30b",
   "metadata": {},
   "outputs": [],
   "source": [
    "ds = tfds.load(\"colorectal_histology\", download=True)"
   ]
  },
  {
   "cell_type": "code",
   "execution_count": 98,
   "id": "6420b286-c49c-4042-a5ea-8c3e50149363",
   "metadata": {},
   "outputs": [],
   "source": [
    "ds_tr = list(tfds.as_numpy(ds)[\"train\"])"
   ]
  },
  {
   "cell_type": "code",
   "execution_count": 99,
   "id": "921ee4c9-9186-4e30-86c7-3c66ea7620e1",
   "metadata": {},
   "outputs": [],
   "source": [
    "ds_x = np.array([i['image'] for i in ds_tr])\n",
    "ds_y = np.array([i['label'] for i in ds_tr])"
   ]
  },
  {
   "cell_type": "code",
   "execution_count": 100,
   "id": "0b328e22-9c88-4ac4-b826-e8c784fa56e4",
   "metadata": {},
   "outputs": [],
   "source": [
    "x_train, x_test, y_train, y_test = train_test_split(ds_x, ds_y, test_size=0.3, shuffle=True)\n",
    "x_val, x_test, y_val, y_test = train_test_split(x_test, y_test, test_size=0.5, shuffle=True)"
   ]
  },
  {
   "cell_type": "markdown",
   "id": "259b43ec-3cd5-470b-ab4e-0dd4bac4fd52",
   "metadata": {},
   "source": [
    "## Dataset Normalization"
   ]
  },
  {
   "cell_type": "code",
   "execution_count": 101,
   "id": "9dfd16d0-1d57-4761-a4d8-028a49439d8f",
   "metadata": {},
   "outputs": [],
   "source": [
    "INPUT_LENGTH = x_train.shape[1]*x_train.shape[2]\n",
    "\n",
    "def one_hot_encoding(y_data):\n",
    "    y_data = y_data.astype(np.int8)\n",
    "    y_zeros = np.zeros(shape=(y_data.shape[0], 8))\n",
    "    y_zeros[np.arange(y_data.shape[0]), y_data] =  1\n",
    "    return y_zeros"
   ]
  },
  {
   "cell_type": "code",
   "execution_count": 102,
   "id": "a48ca985-e03d-45d8-b1fa-b8c0c1974d6b",
   "metadata": {},
   "outputs": [],
   "source": [
    "y_train = one_hot_encoding(y_train)\n",
    "y_test = one_hot_encoding(y_test)"
   ]
  },
  {
   "cell_type": "markdown",
   "id": "fe6cc0b1-0a15-4ad2-93ca-77f63b8211fe",
   "metadata": {},
   "source": [
    "## Model"
   ]
  },
  {
   "cell_type": "code",
   "execution_count": null,
   "id": "a60bb34f-fe88-409e-9558-3aeb5ca38417",
   "metadata": {},
   "outputs": [],
   "source": []
  }
 ],
 "metadata": {
  "kernelspec": {
   "display_name": "Python 3 (ipykernel)",
   "language": "python",
   "name": "python3"
  },
  "language_info": {
   "codemirror_mode": {
    "name": "ipython",
    "version": 3
   },
   "file_extension": ".py",
   "mimetype": "text/x-python",
   "name": "python",
   "nbconvert_exporter": "python",
   "pygments_lexer": "ipython3",
   "version": "3.11.3"
  }
 },
 "nbformat": 4,
 "nbformat_minor": 5
}
